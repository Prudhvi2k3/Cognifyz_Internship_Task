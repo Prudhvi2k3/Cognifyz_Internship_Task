{
 "cells": [
  {
   "cell_type": "code",
   "execution_count": 1,
   "id": "0fc0a332",
   "metadata": {},
   "outputs": [],
   "source": [
    "import pandas as pd\n",
    "df = pd.read_csv(\"D:\\CognifyzInternship\\Dataset.csv\")"
   ]
  },
  {
   "cell_type": "code",
   "execution_count": 2,
   "id": "f0a5b9aa",
   "metadata": {},
   "outputs": [
    {
     "data": {
      "text/plain": [
       "North Indian                                             936\n",
       "North Indian, Chinese                                    511\n",
       "Chinese                                                  354\n",
       "Fast Food                                                354\n",
       "North Indian, Mughlai                                    334\n",
       "                                                        ... \n",
       "Bengali, Fast Food                                         1\n",
       "North Indian, Rajasthani, Asian                            1\n",
       "Chinese, Thai, Malaysian, Indonesian                       1\n",
       "Bakery, Desserts, North Indian, Bengali, South Indian      1\n",
       "Italian, World Cuisine                                     1\n",
       "Name: Cuisines, Length: 1825, dtype: int64"
      ]
     },
     "execution_count": 2,
     "metadata": {},
     "output_type": "execute_result"
    }
   ],
   "source": [
    "#Flatten the list of cuisines to count each individual cuisine\n",
    "cuisine_counts = df['Cuisines'].explode().value_counts()\n",
    "cuisine_counts"
   ]
  },
  {
   "cell_type": "code",
   "execution_count": 3,
   "id": "f4ef7375",
   "metadata": {},
   "outputs": [],
   "source": [
    "#Get the top three cuisines by frequency\n",
    "top_cuisines = cuisine_counts.head(3)"
   ]
  },
  {
   "cell_type": "code",
   "execution_count": 4,
   "id": "ad3b9568",
   "metadata": {},
   "outputs": [
    {
     "data": {
      "text/plain": [
       "9551"
      ]
     },
     "execution_count": 4,
     "metadata": {},
     "output_type": "execute_result"
    }
   ],
   "source": [
    "#Calculate the total number of restaurants\n",
    "total_restaurants = len(df)\n",
    "total_restaurants"
   ]
  },
  {
   "cell_type": "code",
   "execution_count": 5,
   "id": "d6c29acc",
   "metadata": {},
   "outputs": [
    {
     "data": {
      "text/plain": [
       "{'North Indian': 9.800020940215685,\n",
       " 'North Indian, Chinese': 5.350225107318606,\n",
       " 'Chinese': 3.706418176107214}"
      ]
     },
     "execution_count": 5,
     "metadata": {},
     "output_type": "execute_result"
    }
   ],
   "source": [
    "#Calculate the percentage of restaurants for each top cuisine\n",
    "percentage_dict = {}\n",
    "for cuisine, count in top_cuisines.items():\n",
    "    percentage = (count/total_restaurants)*100\n",
    "    percentage_dict[cuisine] = percentage\n",
    "percentage_dict"
   ]
  },
  {
   "cell_type": "code",
   "execution_count": 6,
   "id": "67bd4a72",
   "metadata": {},
   "outputs": [
    {
     "name": "stdout",
     "output_type": "stream",
     "text": [
      "Top Three Most Common Cuisines:\n"
     ]
    },
    {
     "data": {
      "text/plain": [
       "North Indian             936\n",
       "North Indian, Chinese    511\n",
       "Chinese                  354\n",
       "Name: Cuisines, dtype: int64"
      ]
     },
     "execution_count": 6,
     "metadata": {},
     "output_type": "execute_result"
    }
   ],
   "source": [
    "print(\"Top Three Most Common Cuisines:\")\n",
    "top_cuisines"
   ]
  },
  {
   "cell_type": "code",
   "execution_count": 7,
   "id": "bbd7938a",
   "metadata": {},
   "outputs": [
    {
     "name": "stdout",
     "output_type": "stream",
     "text": [
      "\n",
      "Percentage of Restaurants Serving Each Top Cuisine:\n",
      "North Indian: 9.8000%\n",
      "North Indian, Chinese: 5.3502%\n",
      "Chinese: 3.7064%\n"
     ]
    }
   ],
   "source": [
    "print(\"\\nPercentage of Restaurants Serving Each Top Cuisine:\")\n",
    "for cuisine, percentage in percentage_dict.items():\n",
    "    print(f\"{cuisine}: {percentage:.4f}%\")"
   ]
  }
 ],
 "metadata": {
  "kernelspec": {
   "display_name": "Python 3 (ipykernel)",
   "language": "python",
   "name": "python3"
  },
  "language_info": {
   "codemirror_mode": {
    "name": "ipython",
    "version": 3
   },
   "file_extension": ".py",
   "mimetype": "text/x-python",
   "name": "python",
   "nbconvert_exporter": "python",
   "pygments_lexer": "ipython3",
   "version": "3.10.8"
  }
 },
 "nbformat": 4,
 "nbformat_minor": 5
}
