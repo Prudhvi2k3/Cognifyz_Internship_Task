{
 "cells": [
  {
   "cell_type": "code",
   "execution_count": 2,
   "id": "8cf09939",
   "metadata": {},
   "outputs": [],
   "source": [
    "import pandas as pd\n",
    "df = pd.read_csv(\"D:\\CognifyzInternship\\Dataset.csv\")"
   ]
  },
  {
   "cell_type": "code",
   "execution_count": 6,
   "id": "62b62309",
   "metadata": {},
   "outputs": [
    {
     "data": {
      "text/html": [
       "<div>\n",
       "<style scoped>\n",
       "    .dataframe tbody tr th:only-of-type {\n",
       "        vertical-align: middle;\n",
       "    }\n",
       "\n",
       "    .dataframe tbody tr th {\n",
       "        vertical-align: top;\n",
       "    }\n",
       "\n",
       "    .dataframe thead th {\n",
       "        text-align: right;\n",
       "    }\n",
       "</style>\n",
       "<table border=\"1\" class=\"dataframe\">\n",
       "  <thead>\n",
       "    <tr style=\"text-align: right;\">\n",
       "      <th></th>\n",
       "      <th>Average Rating</th>\n",
       "      <th>Number of Outlets</th>\n",
       "    </tr>\n",
       "  </thead>\n",
       "  <tbody>\n",
       "    <tr>\n",
       "      <th>Talaga Sampireun</th>\n",
       "      <td>4.900</td>\n",
       "      <td>3</td>\n",
       "    </tr>\n",
       "    <tr>\n",
       "      <th>Silantro Fil-Mex</th>\n",
       "      <td>4.850</td>\n",
       "      <td>2</td>\n",
       "    </tr>\n",
       "    <tr>\n",
       "      <th>AB's Absolute Barbecues</th>\n",
       "      <td>4.850</td>\n",
       "      <td>2</td>\n",
       "    </tr>\n",
       "    <tr>\n",
       "      <th>AB's - Absolute Barbecues</th>\n",
       "      <td>4.825</td>\n",
       "      <td>4</td>\n",
       "    </tr>\n",
       "    <tr>\n",
       "      <th>Naturals Ice Cream</th>\n",
       "      <td>4.800</td>\n",
       "      <td>2</td>\n",
       "    </tr>\n",
       "  </tbody>\n",
       "</table>\n",
       "</div>"
      ],
      "text/plain": [
       "                           Average Rating  Number of Outlets\n",
       "Talaga Sampireun                    4.900                  3\n",
       "Silantro Fil-Mex                    4.850                  2\n",
       "AB's Absolute Barbecues             4.850                  2\n",
       "AB's - Absolute Barbecues           4.825                  4\n",
       "Naturals Ice Cream                  4.800                  2"
      ]
     },
     "execution_count": 6,
     "metadata": {},
     "output_type": "execute_result"
    }
   ],
   "source": [
    "# Group by Restaurant Name and calculate Aggregate rating\n",
    "chain_ratings = df.groupby('Restaurant Name')['Aggregate rating'].mean()\n",
    "\n",
    "# Count the number of outlets for each restaurant\n",
    "chain_outlets = df['Restaurant Name'].value_counts()\n",
    "\n",
    "# Combine chain ratings and outlets into a single DataFrame\n",
    "chain_info = pd.DataFrame({\n",
    "    'Average Rating': chain_ratings,\n",
    "    'Number of Outlets': chain_outlets\n",
    "})\n",
    "\n",
    "#Removing non-chain restaurants\n",
    "chain_info = chain_info[chain_info['Number of Outlets'] > 1]\n",
    "\n",
    "# Sort the DataFrame by Average_Rating in descending order\n",
    "chain_info = chain_info.sort_values(by='Average Rating', ascending=False)\n",
    "\n",
    "chain_info.head()"
   ]
  }
 ],
 "metadata": {
  "kernelspec": {
   "display_name": "Python 3 (ipykernel)",
   "language": "python",
   "name": "python3"
  },
  "language_info": {
   "codemirror_mode": {
    "name": "ipython",
    "version": 3
   },
   "file_extension": ".py",
   "mimetype": "text/x-python",
   "name": "python",
   "nbconvert_exporter": "python",
   "pygments_lexer": "ipython3",
   "version": "3.11.3"
  }
 },
 "nbformat": 4,
 "nbformat_minor": 5
}
