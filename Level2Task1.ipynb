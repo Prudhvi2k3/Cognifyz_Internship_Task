{
 "cells": [
  {
   "cell_type": "code",
   "execution_count": 6,
   "id": "591e991a",
   "metadata": {},
   "outputs": [],
   "source": [
    "import pandas as pd\n",
    "df = pd.read_csv(\"D:\\CognifyzInternship\\Dataset.csv\")"
   ]
  },
  {
   "cell_type": "code",
   "execution_count": 47,
   "id": "73ab502c",
   "metadata": {},
   "outputs": [
    {
     "name": "stdout",
     "output_type": "stream",
     "text": [
      "    index  Count            Rating range\n",
      "0     0.0   2148                -0.5-0.5\n",
      "1     3.2    522                 2.7-3.7\n",
      "2     3.1    519                 2.6-3.6\n",
      "3     3.4    498                 2.9-3.9\n",
      "4     3.3    483                 2.8-3.8\n",
      "5     3.5    480                 3.0-4.0\n",
      "6     3.0    468                 2.5-3.5\n",
      "7     3.6    458                 3.1-4.1\n",
      "8     3.7    427                 3.2-4.2\n",
      "9     3.8    400                 3.3-4.3\n",
      "10    2.9    381                 2.4-3.4\n",
      "11    3.9    335                 3.4-4.4\n",
      "12    2.8    315                 2.3-3.3\n",
      "13    4.1    274  3.5999999999999996-4.6\n",
      "14    4.0    266                 3.5-4.5\n",
      "15    2.7    250                 2.2-3.2\n",
      "16    4.2    221                 3.7-4.7\n",
      "17    2.6    191                 2.1-3.1\n",
      "18    4.3    174                 3.8-4.8\n",
      "19    4.4    144  3.9000000000000004-4.9\n",
      "20    2.5    110                 2.0-3.0\n",
      "21    4.5     95                 4.0-5.0\n",
      "22    2.4     87                 1.9-2.9\n",
      "23    4.6     78                 4.1-5.1\n",
      "24    4.9     61                 4.4-5.4\n",
      "25    2.3     47  1.7999999999999998-2.8\n",
      "26    4.7     42                 4.2-5.2\n",
      "27    2.2     27  1.7000000000000002-2.7\n",
      "28    4.8     25                 4.3-5.3\n",
      "29    2.1     15                 1.6-2.6\n",
      "30    2.0      7                 1.5-2.5\n",
      "31    1.9      2                 1.4-2.4\n",
      "32    1.8      1                 1.3-2.3\n",
      "-0.5-0.5\n"
     ]
    }
   ],
   "source": [
    "#Most common Ratings in the dataset\n",
    "rating_ranges = df[\"Aggregate rating\"].value_counts().reset_index(name=\"Count\")\n",
    "rating_ranges[\"Rating range\"] = rating_ranges[\"index\"].apply(lambda x: \"{}-{}\".format(x - 0.5, x + 0.5))\n",
    "most_common_rating_range = rating_ranges[\"Rating range\"].iloc[0]\n",
    "print(rating_ranges)\n",
    "print(most_common_rating_range)"
   ]
  },
  {
   "cell_type": "code",
   "execution_count": 48,
   "id": "53b6433b",
   "metadata": {},
   "outputs": [
    {
     "name": "stdout",
     "output_type": "stream",
     "text": [
      "156.909747670401\n"
     ]
    }
   ],
   "source": [
    "#Getting average number of votes\n",
    "average_number_of_votes = df[\"Votes\"].mean()\n",
    "print(average_number_of_votes)"
   ]
  },
  {
   "cell_type": "code",
   "execution_count": 49,
   "id": "83621b97",
   "metadata": {},
   "outputs": [
    {
     "name": "stdout",
     "output_type": "stream",
     "text": [
      "Most common rating range: -0.5-0.5\n",
      "Average number of votes: 156.909747670401\n"
     ]
    }
   ],
   "source": [
    "print(\"Most common rating range: {}\".format(most_common_rating_range))\n",
    "print(\"Average number of votes: {}\".format(average_number_of_votes))"
   ]
  }
 ],
 "metadata": {
  "kernelspec": {
   "display_name": "Python 3 (ipykernel)",
   "language": "python",
   "name": "python3"
  },
  "language_info": {
   "codemirror_mode": {
    "name": "ipython",
    "version": 3
   },
   "file_extension": ".py",
   "mimetype": "text/x-python",
   "name": "python",
   "nbconvert_exporter": "python",
   "pygments_lexer": "ipython3",
   "version": "3.11.3"
  }
 },
 "nbformat": 4,
 "nbformat_minor": 5
}
