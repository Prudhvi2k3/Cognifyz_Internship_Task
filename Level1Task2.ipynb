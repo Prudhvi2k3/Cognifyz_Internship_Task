{
 "cells": [
  {
   "cell_type": "code",
   "execution_count": 14,
   "id": "aee6a3c4",
   "metadata": {},
   "outputs": [],
   "source": [
    "import pandas as pd\n",
    "df = pd.read_csv(\"D:\\CognifyzInternship\\Dataset.csv\")"
   ]
  },
  {
   "cell_type": "code",
   "execution_count": 21,
   "id": "346d04b5",
   "metadata": {},
   "outputs": [
    {
     "name": "stdout",
     "output_type": "stream",
     "text": [
      "New Delhi           5473\n",
      "Gurgaon             1118\n",
      "Noida               1080\n",
      "Faridabad            251\n",
      "Ghaziabad             25\n",
      "                    ... \n",
      "Panchkula              1\n",
      "Mc Millan              1\n",
      "Mayfield               1\n",
      "Macedon                1\n",
      "Vineland Station       1\n",
      "Name: City, Length: 141, dtype: int64\n"
     ]
    }
   ],
   "source": [
    "#Finds the city with the most restaurants\n",
    "city_counts = df[\"City\"].value_counts()\n",
    "print(city_counts)"
   ]
  },
  {
   "cell_type": "code",
   "execution_count": 27,
   "id": "1ca0b91c",
   "metadata": {},
   "outputs": [
    {
     "data": {
      "text/plain": [
       "'New Delhi'"
      ]
     },
     "execution_count": 27,
     "metadata": {},
     "output_type": "execute_result"
    }
   ],
   "source": [
    "#Finds the city with the most restaurants in the dataset.\n",
    "most_restaurants = max(city_counts.values)\n",
    "most_restaurants_city = city_counts.index[city_counts == most_restaurants][0]\n",
    "most_restaurants_city"
   ]
  },
  {
   "cell_type": "code",
   "execution_count": 4,
   "id": "f3c021b8",
   "metadata": {},
   "outputs": [
    {
     "name": "stdout",
     "output_type": "stream",
     "text": [
      "2.4388452402704237\n"
     ]
    }
   ],
   "source": [
    "#Calculates the average rating for the resturants\n",
    "ratings = df.loc[df[\"City\"] == most_restaurants_city][\"Aggregate rating\"].tolist()\n",
    "if ratings:\n",
    "    highest_average_rating = sum(ratings) / len(ratings)\n",
    "print(highest_average_rating)"
   ]
  },
  {
   "cell_type": "code",
   "execution_count": 34,
   "id": "69f76a55",
   "metadata": {},
   "outputs": [
    {
     "name": "stdout",
     "output_type": "stream",
     "text": [
      "Inner City\n"
     ]
    }
   ],
   "source": [
    "#Finds the city with highest average rating\n",
    "city_to_average_rating = df.groupby(\"City\")[\"Aggregate rating\"].mean()\n",
    "highest_average_rating = max(city_to_average_rating.values)\n",
    "highest_average_rating_city = city_to_average_rating.index[city_to_average_rating == highest_average_rating][0]\n",
    "print(highest_average_rating_city)"
   ]
  },
  {
   "cell_type": "code",
   "execution_count": 50,
   "id": "797c0b45",
   "metadata": {},
   "outputs": [
    {
     "name": "stdout",
     "output_type": "stream",
     "text": [
      "city with the highest number of restaurants is New Delhi\n",
      "The average rating for restaurants in each city is 4.9\n",
      "The city with the highest average rating is Inner City\n"
     ]
    }
   ],
   "source": [
    "print(\"city with the highest number of restaurants is\",most_restaurants_city)\n",
    "print(\"The average rating for restaurants in each city is\",highest_average_rating)\n",
    "print(\"The city with the highest average rating is\",highest_average_rating_city)"
   ]
  }
 ],
 "metadata": {
  "kernelspec": {
   "display_name": "Python 3 (ipykernel)",
   "language": "python",
   "name": "python3"
  },
  "language_info": {
   "codemirror_mode": {
    "name": "ipython",
    "version": 3
   },
   "file_extension": ".py",
   "mimetype": "text/x-python",
   "name": "python",
   "nbconvert_exporter": "python",
   "pygments_lexer": "ipython3",
   "version": "3.11.3"
  }
 },
 "nbformat": 4,
 "nbformat_minor": 5
}
